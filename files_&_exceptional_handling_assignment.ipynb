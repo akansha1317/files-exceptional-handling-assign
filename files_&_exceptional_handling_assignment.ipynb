{
  "nbformat": 4,
  "nbformat_minor": 0,
  "metadata": {
    "colab": {
      "provenance": []
    },
    "kernelspec": {
      "name": "python3",
      "display_name": "Python 3"
    },
    "language_info": {
      "name": "python"
    }
  },
  "cells": [
    {
      "cell_type": "markdown",
      "source": [
        "###Files, exceptional handling, logging and memory management Questions"
      ],
      "metadata": {
        "id": "7FLVSfVg7Wvp"
      }
    },
    {
      "cell_type": "markdown",
      "source": [
        "1. What is the difference between interpreted and compiled languages?\n",
        "\n",
        " **Compiled Languages**\n",
        "\n",
        "How it works: The code is translated before it runs, by a compiler, into machine code (binary).\n",
        "\n",
        "Examples: C, C++, Rust, Go\n",
        "\n",
        "Pros:\n",
        "\n",
        "- Usually faster execution because it's already translated.\n",
        "\n",
        "- You get early error checking during compilation.\n",
        "\n",
        "- Often results in standalone executables (no need for an interpreter on the target system).\n",
        "\n",
        "Cons:\n",
        "\n",
        "- Slower development cycle — you must compile before testing.\n",
        "\n",
        "- Less flexible for dynamic tasks.\n",
        "\n",
        " **Interpreted Languages**\n",
        "\n",
        "How it works: The code is run line by line at runtime by an interpreter.\n",
        "\n",
        "Examples: Python, JavaScript, Ruby, PHP\n",
        "\n",
        "Pros:\n",
        "\n",
        "- Easier to test and debug — just run the script.\n",
        "\n",
        "- More platform-independent (as long as the interpreter is available).\n",
        "\n",
        "- Great for scripting, automation, and rapid development.\n",
        "\n",
        "Cons:\n",
        "\n",
        "- Generally slower than compiled code.\n",
        "\n",
        "- Errors may not appear until the program hits that line during execution.\n",
        "\n",
        "\n",
        ""
      ],
      "metadata": {
        "id": "4kq-Xs3L7gKB"
      }
    },
    {
      "cell_type": "markdown",
      "source": [
        "2. What is exception handling in Python?\n",
        " - Exception handling in Python is a mechanism that allows you to manage errors gracefully during the execution of a program. Instead of the program crashing when it encounters an error, you can use `try`, `except`, `else`, and `finally` blocks to catch and respond to exceptions. The `try` block contains code that might cause an error, while the `except` block defines how to handle specific exceptions. If no error occurs, the `else` block can execute additional code, and the `finally` block always runs, regardless of whether an exception occurred or not. This approach improves program reliability and user experience by allowing developers to anticipate and handle potential issues, such as dividing by zero or accessing a file that doesn’t exist."
      ],
      "metadata": {
        "id": "iBrfZFzBK0yL"
      }
    },
    {
      "cell_type": "markdown",
      "source": [
        "3. What is the purpose of the finally block in exception handling?\n",
        " - The purpose of the `finally` block in exception handling is to define code that **must run no matter what**, whether an exception occurs or not. It’s typically used for **cleanup actions**, like closing files, releasing resources, or disconnecting from a database. Even if an error is raised and caught, or if no error happens at all, the code inside the `finally` block will always execute, ensuring that necessary final steps are performed before the program continues or exits."
      ],
      "metadata": {
        "id": "nF_I0WrULHf5"
      }
    },
    {
      "cell_type": "markdown",
      "source": [
        "4. What is logging in Python?\n",
        " - Logging in Python is a way to **track events** that happen while your program runs, so you can monitor its behavior, debug issues, and record important information. Instead of using `print()` statements for debugging, the `logging` module provides a more powerful and flexible way to report messages at different severity levels like **DEBUG**, **INFO**, **WARNING**, **ERROR**, and **CRITICAL**. You can configure it to log messages to the console, files, or even external systems, and control the formatting and level of detail. This makes logging especially useful in larger applications or production environments where understanding what happened — and when — is crucial."
      ],
      "metadata": {
        "id": "ZGzocDhSzOYz"
      }
    },
    {
      "cell_type": "markdown",
      "source": [
        "5. F What is the significance of the __del__ method in Python?\n",
        " - The `__del__` method in Python is a special built-in method called a destructor, which is automatically invoked when an object is about to be destroyed, typically when there are no more references to it. Its main purpose is to allow for cleanup actions, such as closing files, releasing memory, or disconnecting from external resources before the object is removed from memory. However, the exact timing of when `__del__` is called is not guaranteed, as it depends on Python’s garbage collection process. Because of this uncertainty, it's generally recommended to use context managers (`with` statements) for resource management instead of relying solely on `__del__`. While it can be helpful in certain cases, the use of `__del__` should be handled carefully to avoid unexpected behavior or resource leaks."
      ],
      "metadata": {
        "id": "NDh-iTY_zWyq"
      }
    },
    {
      "cell_type": "markdown",
      "source": [
        "6. What is the difference between import and from ... import in Python?\n",
        " - In Python, both `import` and `from ... import` are used to include modules or specific parts of modules into your code, but they work a bit differently. When you use `import`, you bring in the entire module, and you have to prefix its contents with the module name. For example, `import math` lets you use `math.sqrt(16)`. On the other hand, `from ... import` allows you to import specific functions, classes, or variables directly from a module, so you can use them without the module name. For example, `from math import sqrt` lets you just write `sqrt(16)`. While `import` keeps your namespace cleaner and avoids name conflicts, `from ... import` can make your code shorter and more readable when you only need a few things."
      ],
      "metadata": {
        "id": "4zl36BbaznA5"
      }
    },
    {
      "cell_type": "markdown",
      "source": [
        "7. How can you handle multiple exceptions in Python? \\\n",
        " - In Python, you can handle multiple exceptions by using either multiple `except` blocks or by grouping exceptions within a single `except` clause using parentheses. Using multiple `except` blocks allows you to respond differently to different types of exceptions, which is useful when specific actions are needed based on the error type. Alternatively, if you want to handle several exceptions in the same way, you can group them in one `except` block by enclosing them in a tuple. This approach keeps the code clean and efficient while ensuring that all potential error types are properly managed, preventing unexpected crashes during program execution."
      ],
      "metadata": {
        "id": "rwwutc77DsXE"
      }
    },
    {
      "cell_type": "markdown",
      "source": [
        "8. What is the purpose of the with statement when handling files in Python?\n",
        " - The `with` statement in Python is used to simplify file handling by automatically managing resources like file opening and closing. When you open a file using the `with` statement, Python ensures that the file is properly closed once the block of code inside the `with` finishes executing, even if an error occurs. This makes the code cleaner, more readable, and less error-prone compared to manually opening and closing files using `open()` and `close()`. It helps prevent issues like memory leaks or file locks that can happen if a file isn’t closed properly."
      ],
      "metadata": {
        "id": "o5Z16Z8kD8BS"
      }
    },
    {
      "cell_type": "markdown",
      "source": [
        "9. What is the difference between multithreading and multiprocessing?\n",
        " - The main difference between **multithreading** and **multiprocessing** in Python lies in how they handle concurrency and utilize system resources. **Multithreading** involves running multiple threads within the same process, sharing the same memory space. It's lightweight and good for I/O-bound tasks (like reading files or making network requests), but due to Python’s Global Interpreter Lock (GIL), only one thread executes Python bytecode at a time, which limits its performance for CPU-bound tasks. **Multiprocessing**, on the other hand, uses multiple processes, each with its own memory space and Python interpreter. It bypasses the GIL, making it more suitable for CPU-bound tasks that require true parallelism. However, multiprocessing is heavier and has more overhead due to inter-process communication."
      ],
      "metadata": {
        "id": "d-XEC83KEED7"
      }
    },
    {
      "cell_type": "markdown",
      "source": [
        "10. What are the advantages of using logging in a program?\n",
        " - Using logging in a program offers several key advantages that go beyond simple debugging. First, it provides a systematic way to **track and record events** that occur during program execution, which is invaluable for diagnosing problems and understanding program flow. Unlike `print()` statements, logging allows you to **categorize messages by severity levels** such as DEBUG, INFO, WARNING, ERROR, and CRITICAL, making it easier to filter and prioritize information. It also supports **flexible output options**, allowing you to write logs to files, display them in the console, or send them to remote servers. This makes logging essential for **monitoring applications in production**, troubleshooting issues without disrupting users, and maintaining a clear historical record of how the application behaves over time."
      ],
      "metadata": {
        "id": "88LMjYVYEL3j"
      }
    },
    {
      "cell_type": "markdown",
      "source": [
        "11. What is memory management in Python?\n",
        " - Memory management in Python refers to the process of **allocating, using, and releasing memory** during the execution of a program. Python handles most memory management automatically through its built-in **garbage collector**, which identifies and frees memory that is no longer in use, especially by detecting objects that are no longer referenced. Python also uses **reference counting**, where each object keeps track of how many references point to it—once that count drops to zero, the memory can be reclaimed. Additionally, Python’s memory manager handles **object allocation**, **caching**, and **reuse of memory** for performance optimization. This automatic memory management simplifies development by reducing the risk of memory leaks and manual cleanup, allowing developers to focus more on writing logic than managing resources."
      ],
      "metadata": {
        "id": "HvVEur4QEZzU"
      }
    },
    {
      "cell_type": "markdown",
      "source": [
        "12. What are the basic steps involved in exception handling in Python?\n",
        " - The basic steps involved in exception handling in Python include identifying risky code, catching exceptions, and responding appropriately. First, you place the code that might cause an error inside a **`try` block**. If an exception occurs, Python immediately stops executing the `try` block and looks for a matching **`except` block** to handle the specific error type. You can use multiple `except` blocks to handle different kinds of exceptions or group them together. Optionally, you can include an **`else` block** to run code if no exception occurs, and a **`finally` block** to define code that should run no matter what, such as closing a file or releasing a resource. This structure allows for robust and error-tolerant programs."
      ],
      "metadata": {
        "id": "rGZge5UCEjMr"
      }
    },
    {
      "cell_type": "markdown",
      "source": [
        "13. Why is memory management important in Python?\n",
        " - Memory management is important in Python because it ensures that programs use system memory efficiently, preventing issues like **memory leaks**, **slow performance**, or even program crashes. Since Python applications often run for extended periods or handle large amounts of data, it's crucial to manage memory properly to keep resource usage under control. Python automates memory management through techniques like **reference counting** and **garbage collection**, which help reclaim memory that's no longer needed. However, understanding how memory is managed allows developers to write more optimized code, avoid holding onto unnecessary data, and design programs that run smoothly and scale well."
      ],
      "metadata": {
        "id": "HTui93vAErC0"
      }
    },
    {
      "cell_type": "markdown",
      "source": [
        "14. What is the role of try and except in exception handling?\n",
        " - The `try` and `except` blocks play a central role in Python's exception handling by allowing programs to **respond gracefully to errors** instead of crashing. The `try` block contains the code that might raise an exception during execution. If an error occurs within the `try` block, Python stops executing that block and jumps to the corresponding `except` block. The `except` block then handles the error, allowing the program to recover or continue running. This structure helps in writing robust programs that can manage unexpected situations, such as invalid user input, missing files, or network issues, without abruptly terminating."
      ],
      "metadata": {
        "id": "RraDAOl3EyTj"
      }
    },
    {
      "cell_type": "markdown",
      "source": [
        "15.  How does Python's garbage collection system work?\n",
        " -  Python's garbage collection system automatically manages memory by reclaiming unused objects to keep the program efficient and prevent memory leaks. It primarily uses **reference counting**, where each object keeps track of how many references point to it. When an object's reference count drops to zero, meaning no part of the program is using it, Python immediately deallocates its memory.\n",
        "\n",
        "However, reference counting alone can't handle **circular references** (when objects reference each other), so Python also includes a **cyclic garbage collector**. This collector runs periodically to detect and clean up groups of objects that are no longer reachable but are still referencing each other. Together, these mechanisms allow Python to manage memory automatically and efficiently, freeing developers from having to manually allocate and deallocate memory."
      ],
      "metadata": {
        "id": "_Z-oocBKE5ZT"
      }
    },
    {
      "cell_type": "markdown",
      "source": [
        "16. What is the purpose of the else block in exception handling?\n",
        " - The purpose of the `else` block in Python's exception handling is to define code that should execute only when the `try` block runs without encountering any exceptions. It provides a clear separation between the handling of errors, which occurs in the `except` block, and the logic that should run when no error occurs. This structure makes the code more readable and organized, as the `else` block is only executed if the `try` block completes successfully. It helps ensure that certain operations, like logging or additional processing, are only carried out when the preceding code doesn't raise any issues, contributing to cleaner and more maintainable code."
      ],
      "metadata": {
        "id": "Z81qTML_FF9M"
      }
    },
    {
      "cell_type": "markdown",
      "source": [
        "17. What are the common logging levels in Python?\n",
        "\n",
        "  In Python, the **logging module** defines several standard logging levels to indicate the severity of the events being logged. The most common logging levels, in increasing order of severity, are:\n",
        "\n",
        "-  **DEBUG**: Used for detailed diagnostic information, typically useful for debugging. This level logs everything, including very fine-grained messages.\n",
        "\n",
        "-  **INFO**: Used for general information about the program’s execution. It logs events that track the flow of the program but are not necessarily errors or warnings.\n",
        "\n",
        "- **WARNING**: Indicates a potential problem or something that is not ideal but doesn’t cause the program to fail. It’s typically used for situations that may need attention but don’t require an immediate fix.\n",
        "\n",
        "- **ERROR**: Indicates a more serious issue that prevents part of the program from functioning properly, but the program can still continue running.\n",
        "\n",
        "- **CRITICAL**: The highest level of severity, used for very serious errors that may cause the program to stop running or fail to execute as expected.\n",
        "\n"
      ],
      "metadata": {
        "id": "mBu0fGz5FUbr"
      }
    },
    {
      "cell_type": "markdown",
      "source": [
        "18. What is the difference between os.fork() and multiprocessing in Python?\n",
        "\n",
        " The difference between **`os.fork()`** and **`multiprocessing`** in Python primarily lies in their functionality, portability, and how they manage processes.\n",
        "\n",
        "-  **`os.fork()`**:\n",
        "   - **Functionality**: `os.fork()` creates a **child process** by duplicating the current process. After the fork, both the parent and child processes continue executing the same code but with different memory spaces.\n",
        "   - **Platform Dependency**: `os.fork()` is only available on Unix-based systems (Linux, macOS). It doesn't work on Windows, as Windows doesn’t support the `fork` system call.\n",
        "   - **Usage**: It's lower-level and gives you more direct control over process creation, but it can be harder to manage, especially when dealing with complex processes or multiple processes.\n",
        "\n",
        "-  **`multiprocessing`**:\n",
        "   - **Functionality**: The `multiprocessing` module is a higher-level abstraction for creating and managing multiple processes in Python. It allows you to create separate processes that run concurrently, each with its own memory space. Unlike `os.fork()`, it is portable across different platforms (Unix and Windows).\n",
        "   - **Platform Independence**: `multiprocessing` works across all major platforms, including both Unix-based and Windows systems, and provides a more robust way to create parallel tasks and share data between processes.\n",
        "   - **Usage**: It's easier to use and provides advanced features like process pools, inter-process communication, and process synchronization, making it more suitable for modern applications where you need to manage multiple processes efficiently.\n",
        "\n"
      ],
      "metadata": {
        "id": "u2PIwV1aFsIV"
      }
    },
    {
      "cell_type": "markdown",
      "source": [
        "19.  What is the importance of closing a file in Python?\n",
        "\n",
        " -  Closing a file in Python is important because it ensures that any **resources used by the file** (such as memory and file handles) are properly released. When you open a file, the operating system allocates resources like file descriptors to interact with the file. If you don't close the file after you're done, these resources may not be released, potentially leading to **memory leaks**, **file locks**, or **exceeding the maximum number of open file descriptors**.\n",
        "\n",
        "- Additionally, closing a file ensures that any **data written to the file** is properly saved and flushed to disk. Without closing the file, changes may not be fully written, resulting in data loss. Python provides the `close()` method to manually close files, but it’s often better to use a **`with` statement** (context manager) when working with files. The `with` statement automatically handles file closure, even if an error occurs during file operations, making the code more reliable and clean."
      ],
      "metadata": {
        "id": "Fx420EqIF_xj"
      }
    },
    {
      "cell_type": "markdown",
      "source": [
        "20. What is the difference between file.read() and file.readline() in Python?\n",
        " - The difference between `file.read()` and `file.readline()` in Python lies in how they handle reading file content. `file.read()` reads the entire contents of a file at once and returns it as a single string. This is suitable for smaller files where you want to load everything into memory at once. However, for larger files, it might be inefficient since it consumes a lot of memory. On the other hand, `file.readline()` reads the file line by line, returning one line at a time, which is more memory-efficient for processing large files. Each call to `file.readline()` fetches the next line, including the newline character, allowing for a more controlled, incremental reading of the file. This makes `file.readline()` ideal when you want to process or analyze a file line by line without loading the entire file into memory at once."
      ],
      "metadata": {
        "id": "Fc4I72TtGOlq"
      }
    },
    {
      "cell_type": "markdown",
      "source": [
        "21. What is the logging module in Python used for?\n",
        " - The `logging` module in Python is used for tracking and recording events that occur during the execution of a program. It allows developers to log messages at different severity levels (e.g., DEBUG, INFO, WARNING, ERROR, and CRITICAL), providing a detailed record of the program's behavior. This is especially useful for debugging, monitoring, and maintaining large or complex applications. The `logging` module can write logs to various outputs, such as the console, files, or external systems, and can be configured to control the level of detail in the logs, filter messages, and even handle log rotation. By using logging instead of simple print statements, developers can easily manage, prioritize, and track issues, making it easier to diagnose problems and monitor a program’s execution over time."
      ],
      "metadata": {
        "id": "nP-6Q7SeGheb"
      }
    },
    {
      "cell_type": "markdown",
      "source": [
        "22. What is the os module in Python used for in file handling?\n",
        "\n",
        "  The `os` module in Python is used for interacting with the operating system, and it provides several functions for file handling and working with the file system. It allows you to perform tasks such as creating, deleting, renaming, and manipulating files and directories. Some common file handling operations you can perform using the `os` module include:\n",
        "\n",
        "- **Creating directories**: `os.mkdir()` and `os.makedirs()` allow you to create directories.\n",
        "\n",
        "- **Deleting files and directories**: `os.remove()` is used to delete files, while `os.rmdir()` and `os.removedirs()` can delete directories.\n",
        "\n",
        "- **Renaming files**: `os.rename()` allows you to rename files or directories.\n",
        "\n",
        "- **Checking file properties**: Functions like `os.path.exists()`, `os.path.isfile()`, and `os.path.isdir()` help check the existence and type of files and directories.\n",
        "\n",
        "- **Changing working directory**: `os.chdir()` allows you to change the current working directory.\n",
        "\n",
        "- **Listing directory contents**: `os.listdir()` retrieves the contents of a directory.\n",
        "\n"
      ],
      "metadata": {
        "id": "z9qZNFPAGp6K"
      }
    },
    {
      "cell_type": "markdown",
      "source": [
        "23. What are the challenges associated with memory management in Python?\n",
        "\n",
        " - Memory management in Python, while largely automated, comes with a few challenges that developers should be aware of. One major challenge is **reference counting and cyclic references**. Python uses reference counting to track the number of references to an object, and when this count drops to zero, the object is deallocated. However, if two or more objects reference each other (creating a cycle), the reference count never reaches zero, causing a **memory leak**. While Python’s **garbage collector** can detect and clean up these cycles, it may not always run in a timely manner, which could result in unnecessary memory consumption.\n",
        "\n",
        "Another challenge is **memory fragmentation**. As objects are created and destroyed dynamically, the memory manager may leave gaps of unused memory, particularly when objects of varying sizes are allocated and deallocated. This can lead to inefficiency, especially in long-running programs where memory usage increases over time.\n",
        "\n",
        "Additionally, while Python handles most memory management automatically, developers still need to be mindful of **manual memory allocation** in certain cases, such as with large data structures or working with C extensions, where memory can be allocated outside of Python’s garbage collection system. **Performance issues** can arise if memory is not properly managed, such as excessive memory use or slow program execution due to inefficient memory handling.\n",
        "\n",
        "Finally, **memory consumption** can be an issue in programs with large amounts of data, as Python objects tend to have overhead due to the way they manage metadata and dynamic typing. This can lead to increased memory usage compared to lower-level languages, and managing memory effectively becomes crucial in resource-constrained environments.\n",
        "\n"
      ],
      "metadata": {
        "id": "yP-626GVHCT9"
      }
    },
    {
      "cell_type": "markdown",
      "source": [
        "24.  How do you raise an exception manually in Python?\n",
        " - In Python, you can manually raise an exception using the `raise` keyword. This allows you to trigger an exception based on specific conditions in your code, providing a way to signal errors or unusual situations that need to be handled. You can raise both built-in exceptions, such as `ValueError` or `TypeError`, as well as custom exceptions that you define by subclassing the `Exception` class. The `raise` statement stops the normal flow of execution and immediately transfers control to the nearest exception handler, if available. This technique is useful for validating input, enforcing conditions, or handling errors in a controlled manner, making your code more robust and easier to debug."
      ],
      "metadata": {
        "id": "q_mO_Sn0HSss"
      }
    },
    {
      "cell_type": "markdown",
      "source": [
        "25. Why is it important to use multithreading in certain applications?\n",
        "\n",
        " - Multithreading is important in certain applications because it allows for **concurrent execution** of tasks, which can significantly improve performance, especially for **I/O-bound operations**. By running multiple threads simultaneously, a program can continue processing tasks while waiting for I/O operations (like reading from disk, making network requests, or interacting with databases) to complete. This prevents the program from becoming unresponsive or inefficient, as it can handle multiple tasks in parallel. Additionally, multithreading is useful in applications where **responsiveness** is critical, such as in GUI-based programs or server applications, where one thread can manage user interactions while others handle background tasks.\n",
        "\n",
        "However, it’s important to note that while multithreading can enhance performance for I/O-bound tasks, it doesn’t necessarily improve performance for **CPU-bound tasks** in Python due to the **Global Interpreter Lock (GIL)**, which allows only one thread to execute Python bytecode at a time. In such cases, **multiprocessing** may be more suitable. Overall, multithreading is particularly beneficial for tasks that involve waiting on external resources, improving efficiency and user experience in many real-world applications."
      ],
      "metadata": {
        "id": "OD6AZVdoIR0z"
      }
    },
    {
      "cell_type": "markdown",
      "source": [
        "###Practical Questions"
      ],
      "metadata": {
        "id": "4i_L9q5ZIgp6"
      }
    },
    {
      "cell_type": "markdown",
      "source": [
        "1. How can you open a file for writing in Python and write a string to it?\n"
      ],
      "metadata": {
        "id": "hS9kcXY_InQx"
      }
    },
    {
      "cell_type": "code",
      "source": [
        "# Open the file in write mode ('w')\n",
        "with open('example.txt', 'w') as file:\n",
        "    # Write a string to the file\n",
        "    file.write(\"Hello, this is a string written to the file!\")\n"
      ],
      "metadata": {
        "id": "tQYNRbODI2fa"
      },
      "execution_count": 1,
      "outputs": []
    },
    {
      "cell_type": "markdown",
      "source": [
        "2. Write a Python program to read the contents of a file and print each line?\n"
      ],
      "metadata": {
        "id": "VvvdA5ypK-Rm"
      }
    },
    {
      "cell_type": "code",
      "source": [
        "# Open the file in read mode ('r')\n",
        "with open('example.txt', 'r') as file:\n",
        "    # Read and print each line of the file\n",
        "    for line in file:\n",
        "        print(line, end='')  # 'end' argument prevents adding an extra newline\n"
      ],
      "metadata": {
        "colab": {
          "base_uri": "https://localhost:8080/"
        },
        "id": "rTLa8htGLDRq",
        "outputId": "6ff45d0d-b92c-40eb-8f5a-1ccd8b28e2e6"
      },
      "execution_count": 2,
      "outputs": [
        {
          "output_type": "stream",
          "name": "stdout",
          "text": [
            "Hello, this is a string written to the file!"
          ]
        }
      ]
    },
    {
      "cell_type": "markdown",
      "source": [
        "3. How would you handle a case where the file doesn't exist while trying to open it for reading?\n",
        ""
      ],
      "metadata": {
        "id": "bSh_g5deN8jy"
      }
    },
    {
      "cell_type": "code",
      "source": [
        "try:\n",
        "    # Attempt to open the file in read mode ('r')\n",
        "    with open('example.txt', 'r') as file:\n",
        "        # Read and print each line from the file\n",
        "        for line in file:\n",
        "            print(line, end='')\n",
        "\n",
        "except FileNotFoundError:\n",
        "    # Handle the case where the file doesn't exist\n",
        "    print(\"The file does not exist.\")\n"
      ],
      "metadata": {
        "colab": {
          "base_uri": "https://localhost:8080/"
        },
        "id": "tG4TyL5gOYui",
        "outputId": "bc542e71-7b93-41dd-b0e2-28fac1d054d8"
      },
      "execution_count": 3,
      "outputs": [
        {
          "output_type": "stream",
          "name": "stdout",
          "text": [
            "Hello, this is a string written to the file!"
          ]
        }
      ]
    },
    {
      "cell_type": "markdown",
      "source": [
        "4. Write a Python script that reads from one file and writes its content to another file?"
      ],
      "metadata": {
        "id": "nqRXKzIyOm7Z"
      }
    },
    {
      "cell_type": "code",
      "source": [
        "# Open the source file in read mode and the destination file in write mode\n",
        "try:\n",
        "    with open('source.txt', 'r') as source_file:\n",
        "        with open('destination.txt', 'w') as destination_file:\n",
        "            # Read the content of the source file and write it to the destination file\n",
        "            content = source_file.read()\n",
        "            destination_file.write(content)\n",
        "\n",
        "except FileNotFoundError:\n",
        "    print(\"The source file does not exist.\")\n"
      ],
      "metadata": {
        "colab": {
          "base_uri": "https://localhost:8080/"
        },
        "id": "N2tIs9khQnS_",
        "outputId": "9b9e8b22-9272-4841-d094-6685a2f1c80d"
      },
      "execution_count": 6,
      "outputs": [
        {
          "output_type": "stream",
          "name": "stdout",
          "text": [
            "The source file does not exist.\n"
          ]
        }
      ]
    },
    {
      "cell_type": "markdown",
      "source": [
        "5.  How would you catch and handle division by zero error in Python?"
      ],
      "metadata": {
        "id": "VB-ohzh3Qo1A"
      }
    },
    {
      "cell_type": "code",
      "source": [
        "try:\n",
        "    # Attempt to perform a division\n",
        "    numerator = 10\n",
        "    denominator = 0\n",
        "    result = numerator / denominator  # This will raise a ZeroDivisionError\n",
        "except ZeroDivisionError:\n",
        "    # Handle the error if division by zero occurs\n",
        "    print(\"Error: Division by zero is not allowed.\")\n",
        "else:\n",
        "    # If no error occurs, print the result\n",
        "    print(f\"The result is: {result}\")\n"
      ],
      "metadata": {
        "colab": {
          "base_uri": "https://localhost:8080/"
        },
        "id": "tjvsHfvEQ9uY",
        "outputId": "8d9c8d20-0281-4af2-dce1-9e0bf61cc19b"
      },
      "execution_count": 7,
      "outputs": [
        {
          "output_type": "stream",
          "name": "stdout",
          "text": [
            "Error: Division by zero is not allowed.\n"
          ]
        }
      ]
    },
    {
      "cell_type": "markdown",
      "source": [
        "6. Write a Python program that logs an error message to a log file when a division by zero exception occurs?\n"
      ],
      "metadata": {
        "id": "eEKJ_NlqQ_SI"
      }
    },
    {
      "cell_type": "code",
      "source": [
        "import logging\n",
        "\n",
        "# Configure the logging system\n",
        "logging.basicConfig(filename='error.log', level=logging.ERROR, format='%(asctime)s - %(levelname)s - %(message)s')\n",
        "\n",
        "try:\n",
        "    # Attempt to perform a division\n",
        "    numerator = 10\n",
        "    denominator = 0\n",
        "    result = numerator / denominator  # This will raise a ZeroDivisionError\n",
        "except ZeroDivisionError as e:\n",
        "    # Log the error message to the log file\n",
        "    logging.error(f\"Error: {str(e)} - Division by zero occurred.\")\n",
        "\n"
      ],
      "metadata": {
        "colab": {
          "base_uri": "https://localhost:8080/"
        },
        "id": "Otr4cSJ6RDV3",
        "outputId": "9f62be10-294d-4175-9368-20d626895f3d"
      },
      "execution_count": 8,
      "outputs": [
        {
          "output_type": "stream",
          "name": "stderr",
          "text": [
            "ERROR:root:Error: division by zero - Division by zero occurred.\n"
          ]
        }
      ]
    },
    {
      "cell_type": "markdown",
      "source": [
        "7. How do you log information at different levels (INFO, ERROR, WARNING) in Python using the logging module?"
      ],
      "metadata": {
        "id": "33CxcxemRLcQ"
      }
    },
    {
      "cell_type": "code",
      "source": [
        "import logging\n",
        "\n",
        "# Configure the logging system to write to a file with specific log level and format\n",
        "logging.basicConfig(filename='app.log', level=logging.DEBUG, format='%(asctime)s - %(levelname)s - %(message)s')\n",
        "\n",
        "# Log an INFO message\n",
        "logging.info(\"This is an informational message.\")\n",
        "\n",
        "# Log a WARNING message\n",
        "logging.warning(\"This is a warning message.\")\n",
        "\n",
        "# Log an ERROR message\n",
        "logging.error(\"This is an error message.\")\n"
      ],
      "metadata": {
        "colab": {
          "base_uri": "https://localhost:8080/"
        },
        "id": "X1tnksmnRTdH",
        "outputId": "028715bb-843b-4bdc-baaf-466992232705"
      },
      "execution_count": 9,
      "outputs": [
        {
          "output_type": "stream",
          "name": "stderr",
          "text": [
            "WARNING:root:This is a warning message.\n",
            "ERROR:root:This is an error message.\n"
          ]
        }
      ]
    },
    {
      "cell_type": "markdown",
      "source": [
        "8. Write a program to handle a file opening error using exception handling?"
      ],
      "metadata": {
        "id": "aspDAbnVRZNB"
      }
    },
    {
      "cell_type": "code",
      "source": [
        "try:\n",
        "    # Attempt to open a file that might not exist\n",
        "    with open('data.txt', 'r') as file:\n",
        "        content = file.read()\n",
        "        print(\"File content:\")\n",
        "        print(content)\n",
        "\n",
        "except FileNotFoundError:\n",
        "    # Handle the case where the file is not found\n",
        "    print(\"Error: The file 'data.txt' was not found.\")\n",
        "\n",
        "except IOError:\n",
        "    # Handle other I/O related errors\n",
        "    print(\"Error: An I/O error occurred while opening the file.\")\n"
      ],
      "metadata": {
        "colab": {
          "base_uri": "https://localhost:8080/"
        },
        "id": "uH6vYxTERggg",
        "outputId": "5b9da447-cb57-4318-da5c-6aed5a6870a7"
      },
      "execution_count": 10,
      "outputs": [
        {
          "output_type": "stream",
          "name": "stdout",
          "text": [
            "Error: The file 'data.txt' was not found.\n"
          ]
        }
      ]
    },
    {
      "cell_type": "markdown",
      "source": [
        "9. How can you read a file line by line and store its content in a list in Python?"
      ],
      "metadata": {
        "id": "ZWV5-F6dRisQ"
      }
    },
    {
      "cell_type": "code",
      "source": [
        "# Open the file in read mode\n",
        "with open('example.txt', 'r') as file:\n",
        "    # Read each line and store it in a list\n",
        "    lines = file.readlines()\n",
        "\n",
        "# Print the list of lines\n",
        "print(lines)\n"
      ],
      "metadata": {
        "colab": {
          "base_uri": "https://localhost:8080/"
        },
        "id": "_SLc4h2aRsFQ",
        "outputId": "ad676204-b30b-428d-f6cb-51d8bc875b26"
      },
      "execution_count": 11,
      "outputs": [
        {
          "output_type": "stream",
          "name": "stdout",
          "text": [
            "['Hello, this is a string written to the file!']\n"
          ]
        }
      ]
    },
    {
      "cell_type": "markdown",
      "source": [
        "10.  How can you append data to an existing file in Python?"
      ],
      "metadata": {
        "id": "Hn12BjKBRyo4"
      }
    },
    {
      "cell_type": "code",
      "source": [
        "# Open the file in append mode\n",
        "with open('example.txt', 'a') as file:\n",
        "    # Write data to the end of the file\n",
        "    file.write(\"This line is appended to the file.\\n\")\n"
      ],
      "metadata": {
        "id": "tQ9s1jBzR2EQ"
      },
      "execution_count": 12,
      "outputs": []
    },
    {
      "cell_type": "markdown",
      "source": [
        "11. Write a Python program that uses a try-except block to handle an error when attempting to access a dictionary key that doesn't exist?"
      ],
      "metadata": {
        "id": "lZaO-pT1R-1n"
      }
    },
    {
      "cell_type": "code",
      "source": [
        "# Define a dictionary\n",
        "student = {\n",
        "    \"name\": \"Alice\",\n",
        "    \"age\": 20,\n",
        "    \"major\": \"Computer Science\"\n",
        "}\n",
        "\n",
        "try:\n",
        "    # Attempt to access a key that might not exist\n",
        "    print(\"GPA:\", student[\"GPA\"])\n",
        "\n",
        "except KeyError:\n",
        "    # Handle the error if the key is not found\n",
        "    print(\"Error: The key 'GPA' does not exist in the dictionary.\")\n"
      ],
      "metadata": {
        "colab": {
          "base_uri": "https://localhost:8080/"
        },
        "id": "19ahRcHGSNJA",
        "outputId": "4c774dbe-1e3f-424d-aac9-6460068a54dd"
      },
      "execution_count": 13,
      "outputs": [
        {
          "output_type": "stream",
          "name": "stdout",
          "text": [
            "Error: The key 'GPA' does not exist in the dictionary.\n"
          ]
        }
      ]
    },
    {
      "cell_type": "markdown",
      "source": [
        "12. Write a program that demonstrates using multiple except blocks to handle different types of exceptions?\n"
      ],
      "metadata": {
        "id": "8HbjBLaxSfhn"
      }
    },
    {
      "cell_type": "code",
      "source": [
        "try:\n",
        "    # Try converting input to integer (might raise ValueError)\n",
        "    num = int(input(\"Enter a number: \"))\n",
        "\n",
        "    # Try dividing (might raise ZeroDivisionError)\n",
        "    result = 100 / num\n",
        "    print(\"Result:\", result)\n",
        "\n",
        "    # Try accessing a dictionary key (might raise KeyError)\n",
        "    student = {\"name\": \"Alice\"}\n",
        "    print(\"Student age:\", student[\"age\"])\n",
        "\n",
        "except ValueError:\n",
        "    print(\"Error: Invalid input. Please enter a number.\")\n",
        "\n",
        "except ZeroDivisionError:\n",
        "    print(\"Error: Cannot divide by zero.\")\n",
        "\n",
        "except KeyError:\n",
        "    print(\"Error: The key you tried to access does not exist in the dictionary.\")\n"
      ],
      "metadata": {
        "colab": {
          "base_uri": "https://localhost:8080/",
          "height": 356
        },
        "id": "emHaDToYS97n",
        "outputId": "fe19f244-6959-47d3-c1a9-7e57cf2ffa71"
      },
      "execution_count": 16,
      "outputs": [
        {
          "output_type": "error",
          "ename": "KeyboardInterrupt",
          "evalue": "Interrupted by user",
          "traceback": [
            "\u001b[0;31m---------------------------------------------------------------------------\u001b[0m",
            "\u001b[0;31mKeyboardInterrupt\u001b[0m                         Traceback (most recent call last)",
            "\u001b[0;32m<ipython-input-16-8e5cd35e0870>\u001b[0m in \u001b[0;36m<cell line: 0>\u001b[0;34m()\u001b[0m\n\u001b[1;32m      1\u001b[0m \u001b[0;32mtry\u001b[0m\u001b[0;34m:\u001b[0m\u001b[0;34m\u001b[0m\u001b[0;34m\u001b[0m\u001b[0m\n\u001b[1;32m      2\u001b[0m     \u001b[0;31m# Try converting input to integer (might raise ValueError)\u001b[0m\u001b[0;34m\u001b[0m\u001b[0;34m\u001b[0m\u001b[0m\n\u001b[0;32m----> 3\u001b[0;31m     \u001b[0mnum\u001b[0m \u001b[0;34m=\u001b[0m \u001b[0mint\u001b[0m\u001b[0;34m(\u001b[0m\u001b[0minput\u001b[0m\u001b[0;34m(\u001b[0m\u001b[0;34m\"Enter a number: \"\u001b[0m\u001b[0;34m)\u001b[0m\u001b[0;34m)\u001b[0m\u001b[0;34m\u001b[0m\u001b[0;34m\u001b[0m\u001b[0m\n\u001b[0m\u001b[1;32m      4\u001b[0m \u001b[0;34m\u001b[0m\u001b[0m\n\u001b[1;32m      5\u001b[0m     \u001b[0;31m# Try dividing (might raise ZeroDivisionError)\u001b[0m\u001b[0;34m\u001b[0m\u001b[0;34m\u001b[0m\u001b[0m\n",
            "\u001b[0;32m/usr/local/lib/python3.11/dist-packages/ipykernel/kernelbase.py\u001b[0m in \u001b[0;36mraw_input\u001b[0;34m(self, prompt)\u001b[0m\n\u001b[1;32m   1175\u001b[0m                 \u001b[0;34m\"raw_input was called, but this frontend does not support input requests.\"\u001b[0m\u001b[0;34m\u001b[0m\u001b[0;34m\u001b[0m\u001b[0m\n\u001b[1;32m   1176\u001b[0m             )\n\u001b[0;32m-> 1177\u001b[0;31m         return self._input_request(\n\u001b[0m\u001b[1;32m   1178\u001b[0m             \u001b[0mstr\u001b[0m\u001b[0;34m(\u001b[0m\u001b[0mprompt\u001b[0m\u001b[0;34m)\u001b[0m\u001b[0;34m,\u001b[0m\u001b[0;34m\u001b[0m\u001b[0;34m\u001b[0m\u001b[0m\n\u001b[1;32m   1179\u001b[0m             \u001b[0mself\u001b[0m\u001b[0;34m.\u001b[0m\u001b[0m_parent_ident\u001b[0m\u001b[0;34m[\u001b[0m\u001b[0;34m\"shell\"\u001b[0m\u001b[0;34m]\u001b[0m\u001b[0;34m,\u001b[0m\u001b[0;34m\u001b[0m\u001b[0;34m\u001b[0m\u001b[0m\n",
            "\u001b[0;32m/usr/local/lib/python3.11/dist-packages/ipykernel/kernelbase.py\u001b[0m in \u001b[0;36m_input_request\u001b[0;34m(self, prompt, ident, parent, password)\u001b[0m\n\u001b[1;32m   1217\u001b[0m             \u001b[0;32mexcept\u001b[0m \u001b[0mKeyboardInterrupt\u001b[0m\u001b[0;34m:\u001b[0m\u001b[0;34m\u001b[0m\u001b[0;34m\u001b[0m\u001b[0m\n\u001b[1;32m   1218\u001b[0m                 \u001b[0;31m# re-raise KeyboardInterrupt, to truncate traceback\u001b[0m\u001b[0;34m\u001b[0m\u001b[0;34m\u001b[0m\u001b[0m\n\u001b[0;32m-> 1219\u001b[0;31m                 \u001b[0;32mraise\u001b[0m \u001b[0mKeyboardInterrupt\u001b[0m\u001b[0;34m(\u001b[0m\u001b[0;34m\"Interrupted by user\"\u001b[0m\u001b[0;34m)\u001b[0m \u001b[0;32mfrom\u001b[0m \u001b[0;32mNone\u001b[0m\u001b[0;34m\u001b[0m\u001b[0;34m\u001b[0m\u001b[0m\n\u001b[0m\u001b[1;32m   1220\u001b[0m             \u001b[0;32mexcept\u001b[0m \u001b[0mException\u001b[0m\u001b[0;34m:\u001b[0m\u001b[0;34m\u001b[0m\u001b[0;34m\u001b[0m\u001b[0m\n\u001b[1;32m   1221\u001b[0m                 \u001b[0mself\u001b[0m\u001b[0;34m.\u001b[0m\u001b[0mlog\u001b[0m\u001b[0;34m.\u001b[0m\u001b[0mwarning\u001b[0m\u001b[0;34m(\u001b[0m\u001b[0;34m\"Invalid Message:\"\u001b[0m\u001b[0;34m,\u001b[0m \u001b[0mexc_info\u001b[0m\u001b[0;34m=\u001b[0m\u001b[0;32mTrue\u001b[0m\u001b[0;34m)\u001b[0m\u001b[0;34m\u001b[0m\u001b[0;34m\u001b[0m\u001b[0m\n",
            "\u001b[0;31mKeyboardInterrupt\u001b[0m: Interrupted by user"
          ]
        }
      ]
    },
    {
      "cell_type": "markdown",
      "source": [
        "13. How would you check if a file exists before attempting to read it in Python?"
      ],
      "metadata": {
        "id": "_u7dKDmATMCA"
      }
    },
    {
      "cell_type": "code",
      "source": [
        "try:\n",
        "    with open('example.txt', 'r') as file:\n",
        "        content = file.read()\n",
        "        print(\"File content:\")\n",
        "        print(content)\n",
        "\n",
        "except FileNotFoundError:\n",
        "    print(\"Error: The file 'example.txt' does not exist.\")\n"
      ],
      "metadata": {
        "colab": {
          "base_uri": "https://localhost:8080/"
        },
        "id": "Qnzwu1PvUhoA",
        "outputId": "a34a5d8f-39ac-463f-aba0-63f88f5edfb5"
      },
      "execution_count": 17,
      "outputs": [
        {
          "output_type": "stream",
          "name": "stdout",
          "text": [
            "File content:\n",
            "Hello, this is a string written to the file!This line is appended to the file.\n",
            "\n"
          ]
        }
      ]
    },
    {
      "cell_type": "markdown",
      "source": [
        "14.  Write a program that uses the logging module to log both informational and error messages?\n"
      ],
      "metadata": {
        "id": "m9NN0u-QUjuY"
      }
    },
    {
      "cell_type": "code",
      "source": [
        "import logging\n",
        "\n",
        "# Configure logging to write to a file with level and message format\n",
        "logging.basicConfig(\n",
        "    filename='app_log.log',\n",
        "    level=logging.DEBUG,  # Captures INFO, WARNING, ERROR, etc.\n",
        "    format='%(asctime)s - %(levelname)s - %(message)s'\n",
        ")\n",
        "\n",
        "# Log an informational message\n",
        "logging.info(\"Program started successfully.\")\n",
        "\n",
        "try:\n",
        "    # A simple operation that might raise an error\n",
        "    x = 10\n",
        "    y = 0\n",
        "    result = x / y\n",
        "    logging.info(f\"The result of division is {result}\")\n",
        "\n",
        "except ZeroDivisionError as e:\n",
        "    logging.error(f\"Error occurred: {e}\")\n",
        "\n",
        "# Log another informational message\n",
        "logging.info(\"Program ended.\")\n"
      ],
      "metadata": {
        "colab": {
          "base_uri": "https://localhost:8080/"
        },
        "id": "avAiI9ofUoQf",
        "outputId": "5759d9d3-2fff-44c6-ff6d-3554e3f27eec"
      },
      "execution_count": 18,
      "outputs": [
        {
          "output_type": "stream",
          "name": "stderr",
          "text": [
            "ERROR:root:Error occurred: division by zero\n"
          ]
        }
      ]
    },
    {
      "cell_type": "markdown",
      "source": [
        "15. Write a Python program that prints the content of a file and handles the case when the file is empty?\n"
      ],
      "metadata": {
        "id": "eTkNiv6IUt5u"
      }
    },
    {
      "cell_type": "code",
      "source": [
        "def read_file_content(filename):\n",
        "    try:\n",
        "        with open(filename, 'r') as file:\n",
        "            content = file.read()\n",
        "            if content.strip() == \"\":\n",
        "                print(\"The file is empty.\")\n",
        "            else:\n",
        "                print(\"File content:\")\n",
        "                print(content)\n",
        "    except FileNotFoundError:\n",
        "        print(f\"Error: The file '{filename}' does not exist.\")\n",
        "\n",
        "# Example usage\n",
        "read_file_content('example.txt')\n"
      ],
      "metadata": {
        "colab": {
          "base_uri": "https://localhost:8080/"
        },
        "id": "wOwAz5QbUyQv",
        "outputId": "5c63f1ca-c533-4873-c715-048025653b08"
      },
      "execution_count": 19,
      "outputs": [
        {
          "output_type": "stream",
          "name": "stdout",
          "text": [
            "File content:\n",
            "Hello, this is a string written to the file!This line is appended to the file.\n",
            "\n"
          ]
        }
      ]
    },
    {
      "cell_type": "markdown",
      "source": [
        "16. Demonstrate how to use memory profiling to check the memory usage of a small program?"
      ],
      "metadata": {
        "id": "EiplLOeqU3Nm"
      }
    },
    {
      "cell_type": "markdown",
      "source": [
        "Step 1: Use tracemalloc for Memory Profiling\n",
        "This method involves using tracemalloc to measure the memory usage during the execution of a small program.\n",
        "\n",
        "Step 2: Write a Python Program with Memory Profiling using tracemalloc\n",
        "python\n",
        "\n"
      ],
      "metadata": {
        "id": "gP0yfw2xWOql"
      }
    },
    {
      "cell_type": "code",
      "source": [
        "import tracemalloc\n",
        "\n",
        "def my_function():\n",
        "    # Create large lists to simulate memory usage\n",
        "    list_a = [i for i in range(10**5)]  # List with 100,000 elements\n",
        "    list_b = [i for i in range(10**6)]  # List with 1 million elements\n",
        "    del list_b  # Delete list_b to free up memory\n",
        "    return list_a\n",
        "\n",
        "# Start tracking memory allocations\n",
        "tracemalloc.start()\n",
        "\n",
        "# Run the function\n",
        "my_function()\n",
        "\n",
        "# Get the current memory usage\n",
        "current, peak = tracemalloc.get_traced_memory()\n",
        "\n",
        "print(f\"Current memory usage: {current / 10**6:.2f} MB\")\n",
        "print(f\"Peak memory usage: {peak / 10**6:.2f} MB\")\n",
        "\n",
        "# Stop tracking memory allocations\n",
        "tracemalloc.stop()\n"
      ],
      "metadata": {
        "colab": {
          "base_uri": "https://localhost:8080/"
        },
        "id": "PYVQ4P-QWR3F",
        "outputId": "f1d8665c-2080-411e-8aa1-06ed075f8c0d"
      },
      "execution_count": 24,
      "outputs": [
        {
          "output_type": "stream",
          "name": "stdout",
          "text": [
            "Current memory usage: 0.02 MB\n",
            "Peak memory usage: 44.45 MB\n"
          ]
        }
      ]
    },
    {
      "cell_type": "markdown",
      "source": [
        "17.  Write a Python program to create and write a list of numbers to a file, one number per line?\n"
      ],
      "metadata": {
        "id": "PdLHj8F9Wo_P"
      }
    },
    {
      "cell_type": "code",
      "source": [
        "# Create a list of numbers\n",
        "numbers = [1, 2, 3, 4, 5, 6, 7, 8, 9, 10]\n",
        "\n",
        "# Open a file in write mode ('w'). If the file doesn't exist, it will be created.\n",
        "with open('numbers.txt', 'w') as file:\n",
        "    # Write each number in the list to the file, one number per line\n",
        "    for number in numbers:\n",
        "        file.write(f\"{number}\\n\")\n",
        "\n",
        "print(\"Numbers have been written to 'numbers.txt'.\")\n"
      ],
      "metadata": {
        "colab": {
          "base_uri": "https://localhost:8080/"
        },
        "id": "dHnT42q4Ws3l",
        "outputId": "4a61402f-5277-4bb6-b663-76933c756f94"
      },
      "execution_count": 29,
      "outputs": [
        {
          "output_type": "stream",
          "name": "stdout",
          "text": [
            "Numbers have been written to 'numbers.txt'.\n"
          ]
        }
      ]
    },
    {
      "cell_type": "code",
      "source": [
        "1\n",
        "2\n",
        "3\n",
        "4\n",
        "5\n",
        "6\n",
        "7\n",
        "8\n",
        "9\n",
        "10\n"
      ],
      "metadata": {
        "colab": {
          "base_uri": "https://localhost:8080/"
        },
        "id": "q60_5rM_W4rt",
        "outputId": "9e5bb6e5-d27e-48a3-8c44-611cf133a558"
      },
      "execution_count": 30,
      "outputs": [
        {
          "output_type": "execute_result",
          "data": {
            "text/plain": [
              "10"
            ]
          },
          "metadata": {},
          "execution_count": 30
        }
      ]
    },
    {
      "cell_type": "markdown",
      "source": [
        "18. How would you implement a basic logging setup that logs to a file with rotation after 1MB?"
      ],
      "metadata": {
        "id": "sOsB4kH6W6Md"
      }
    },
    {
      "cell_type": "code",
      "source": [
        "import logging\n",
        "from logging.handlers import RotatingFileHandler\n",
        "\n",
        "# Create a logger\n",
        "logger = logging.getLogger('my_logger')\n",
        "logger.setLevel(logging.DEBUG)  # Log level can be adjusted to INFO, WARNING, etc.\n",
        "\n",
        "# Create a rotating file handler with a maximum file size of 1MB and 3 backup files\n",
        "handler = RotatingFileHandler('app.log', maxBytes=1e6, backupCount=3)\n",
        "handler.setLevel(logging.DEBUG)  # Adjust log level for this handler\n",
        "\n",
        "# Create a log formatter\n",
        "formatter = logging.Formatter('%(asctime)s - %(levelname)s - %(message)s')\n",
        "handler.setFormatter(formatter)\n",
        "\n",
        "# Add the handler to the logger\n",
        "logger.addHandler(handler)\n",
        "\n",
        "# Example usage: logging messages\n",
        "logger.debug('This is a debug message.')\n",
        "logger.info('This is an info message.')\n",
        "logger.warning('This is a warning message.')\n",
        "logger.error('This is an error message.')\n",
        "logger.critical('This is a critical message.')\n",
        "\n",
        "print(\"Log messages have been written to 'app.log' with rotation.\")\n"
      ],
      "metadata": {
        "colab": {
          "base_uri": "https://localhost:8080/"
        },
        "id": "4KOk5CKkW98e",
        "outputId": "6b24f4bb-ddd2-414e-dce8-511d5aedbe51"
      },
      "execution_count": 31,
      "outputs": [
        {
          "output_type": "stream",
          "name": "stderr",
          "text": [
            "DEBUG:my_logger:This is a debug message.\n",
            "INFO:my_logger:This is an info message.\n",
            "WARNING:my_logger:This is a warning message.\n",
            "ERROR:my_logger:This is an error message.\n",
            "CRITICAL:my_logger:This is a critical message.\n"
          ]
        },
        {
          "output_type": "stream",
          "name": "stdout",
          "text": [
            "Log messages have been written to 'app.log' with rotation.\n"
          ]
        }
      ]
    },
    {
      "cell_type": "markdown",
      "source": [
        "19. Write a program that handles both IndexError and KeyError using a try-except block?\n"
      ],
      "metadata": {
        "id": "T9Lxv7h0XJcO"
      }
    },
    {
      "cell_type": "code",
      "source": [
        "def handle_errors():\n",
        "    # Sample list and dictionary\n",
        "    sample_list = [1, 2, 3, 4]\n",
        "    sample_dict = {\"a\": 1, \"b\": 2, \"c\": 3}\n",
        "\n",
        "    try:\n",
        "        # Trying to access an index that doesn't exist in the list\n",
        "        print(\"Accessing list element at index 5:\", sample_list[5])\n",
        "\n",
        "        # Trying to access a key that doesn't exist in the dictionary\n",
        "        print(\"Accessing dictionary value for key 'd':\", sample_dict[\"d\"])\n",
        "\n",
        "    except IndexError as e:\n",
        "        print(f\"IndexError occurred: {e}\")\n",
        "\n",
        "    except KeyError as e:\n",
        "        print(f\"KeyError occurred: {e}\")\n",
        "\n",
        "# Call the function to handle the errors\n",
        "handle_errors()\n"
      ],
      "metadata": {
        "colab": {
          "base_uri": "https://localhost:8080/"
        },
        "id": "hhHdgjF4XM3-",
        "outputId": "83df9602-cfba-4445-e556-ea486b966a5f"
      },
      "execution_count": 32,
      "outputs": [
        {
          "output_type": "stream",
          "name": "stdout",
          "text": [
            "IndexError occurred: list index out of range\n"
          ]
        }
      ]
    },
    {
      "cell_type": "markdown",
      "source": [
        "20.  How would you open a file and read its contents using a context manager in Python?"
      ],
      "metadata": {
        "id": "T5vpgiFeXSfI"
      }
    },
    {
      "cell_type": "code",
      "source": [
        "# Open and read a file using a context manager\n",
        "file_path = 'example.txt'  # Specify the file path\n",
        "\n",
        "with open(file_path, 'r') as file:  # Open the file in read mode ('r')\n",
        "    # Read the entire file content\n",
        "    file_content = file.read()\n",
        "    print(file_content)  # Print the content of the file\n"
      ],
      "metadata": {
        "colab": {
          "base_uri": "https://localhost:8080/"
        },
        "id": "JqRT6AOAXWLt",
        "outputId": "86fb5bd5-3b15-4077-80f9-74c0d4676ef4"
      },
      "execution_count": 33,
      "outputs": [
        {
          "output_type": "stream",
          "name": "stdout",
          "text": [
            "Hello, this is a string written to the file!This line is appended to the file.\n",
            "\n"
          ]
        }
      ]
    },
    {
      "cell_type": "markdown",
      "source": [
        "21. Write a Python program that reads a file and prints the number of occurrences of a specific word?"
      ],
      "metadata": {
        "id": "YbybuEYCXf3P"
      }
    },
    {
      "cell_type": "code",
      "source": [
        "def count_word_occurrences(file_path, word_to_count):\n",
        "    try:\n",
        "        with open(file_path, 'r') as file:\n",
        "            # Read all lines in the file\n",
        "            content = file.read()\n",
        "\n",
        "            # Convert the content to lowercase to make the search case-insensitive\n",
        "            content_lower = content.lower()\n",
        "\n",
        "            # Count occurrences of the specific word in the content\n",
        "            word_count = content_lower.count(word_to_count.lower())\n",
        "\n",
        "            return word_count\n",
        "    except FileNotFoundError:\n",
        "        print(f\"Error: The file '{file_path}' was not found.\")\n",
        "        return 0\n",
        "    except Exception as e:\n",
        "        print(f\"An error occurred: {e}\")\n",
        "        return 0\n",
        "\n",
        "# Specify the file path and word to search for\n",
        "file_path = 'example.txt'  # Replace with your file path\n",
        "word_to_count = 'python'   # Replace with the word you want to count\n",
        "\n",
        "# Call the function and print the result\n",
        "count = count_word_occurrences(file_path, word_to_count)\n",
        "print(f\"The word '{word_to_count}' appears {count} times in the file.\")\n"
      ],
      "metadata": {
        "colab": {
          "base_uri": "https://localhost:8080/"
        },
        "id": "vwPg2PvFXk4C",
        "outputId": "e1786926-94ce-4362-f21f-e75b52b76d17"
      },
      "execution_count": 34,
      "outputs": [
        {
          "output_type": "stream",
          "name": "stdout",
          "text": [
            "The word 'python' appears 0 times in the file.\n"
          ]
        }
      ]
    },
    {
      "cell_type": "markdown",
      "source": [
        "22.  How can you check if a file is empty before attempting to read its contents?"
      ],
      "metadata": {
        "id": "F7x2gDmHXrBl"
      }
    },
    {
      "cell_type": "code",
      "source": [
        "def read_file_if_not_empty(file_path):\n",
        "    try:\n",
        "        with open(file_path, 'r') as file:\n",
        "            # Try to read the first byte or line\n",
        "            first_char = file.read(1)\n",
        "\n",
        "            if first_char == '':  # If no content is read, the file is empty\n",
        "                print(f\"The file '{file_path}' is empty.\")\n",
        "            else:\n",
        "                # If the file has content, read the entire file\n",
        "                file.seek(0)  # Go back to the beginning of the file\n",
        "                content = file.read()\n",
        "                print(\"File content:\")\n",
        "                print(content)\n",
        "    except FileNotFoundError:\n",
        "        print(f\"The file '{file_path}' does not exist.\")\n",
        "    except Exception as e:\n",
        "        print(f\"An error occurred: {e}\")\n",
        "\n",
        "# Specify the file path\n",
        "file_path = 'example.txt'  # Replace with your file path\n",
        "\n",
        "# Call the function to check if the file is empty and read it\n",
        "read_file_if_not_empty(file_path)\n"
      ],
      "metadata": {
        "colab": {
          "base_uri": "https://localhost:8080/"
        },
        "id": "kZfUnN1nYdLK",
        "outputId": "87b26e47-5735-41d8-d253-87736d02e38e"
      },
      "execution_count": 37,
      "outputs": [
        {
          "output_type": "stream",
          "name": "stdout",
          "text": [
            "File content:\n",
            "Hello, this is a string written to the file!This line is appended to the file.\n",
            "\n"
          ]
        }
      ]
    },
    {
      "cell_type": "markdown",
      "source": [
        "23.  Write a Python program that writes to a log file when an error occurs during file handling."
      ],
      "metadata": {
        "id": "rwNeKW0NYhP-"
      }
    },
    {
      "cell_type": "code",
      "source": [
        "import logging\n",
        "\n",
        "# Set up logging configuration\n",
        "logging.basicConfig(filename='file_handling_errors.log',\n",
        "                    level=logging.ERROR,\n",
        "                    format='%(asctime)s - %(levelname)s - %(message)s')\n",
        "\n",
        "def handle_file_operations(file_path):\n",
        "    try:\n",
        "        # Attempt to open and read the file\n",
        "        with open(file_path, 'r') as file:\n",
        "            content = file.read()\n",
        "            print(\"File content:\")\n",
        "            print(content)\n",
        "\n",
        "    except FileNotFoundError as e:\n",
        "        # Log the error if the file is not found\n",
        "        logging.error(f\"FileNotFoundError: {e} - The file '{file_path}' does not exist.\")\n",
        "        print(f\"Error: The file '{file_path}' was not found.\")\n",
        "\n",
        "    except PermissionError as e:\n",
        "        # Log the error if there is a permission issue\n",
        "        logging.error(f\"PermissionError: {e} - Insufficient permissions to access '{file_path}'.\")\n",
        "        print(f\"Error: Insufficient permissions to access '{file_path}'.\")\n",
        "\n",
        "    except Exception as e:\n",
        "        # Log any other errors that occur\n",
        "        logging.error(f\"An unexpected error occurred: {e}\")\n",
        "        print(f\"An unexpected error occurred: {e}\")\n",
        "\n",
        "# Specify the file path\n",
        "file_path = 'non_existent_file.txt'  # Replace with a valid file path for testing\n",
        "\n",
        "# Call the function to handle file operations\n",
        "handle_file_operations(file_path)\n"
      ],
      "metadata": {
        "colab": {
          "base_uri": "https://localhost:8080/"
        },
        "id": "3sWTdN9KYoU4",
        "outputId": "c1c775da-8bdf-4845-cb16-91893683e5b1"
      },
      "execution_count": 38,
      "outputs": [
        {
          "output_type": "stream",
          "name": "stderr",
          "text": [
            "ERROR:root:FileNotFoundError: [Errno 2] No such file or directory: 'non_existent_file.txt' - The file 'non_existent_file.txt' does not exist.\n"
          ]
        },
        {
          "output_type": "stream",
          "name": "stdout",
          "text": [
            "Error: The file 'non_existent_file.txt' was not found.\n"
          ]
        }
      ]
    },
    {
      "cell_type": "markdown",
      "source": [],
      "metadata": {
        "id": "xCXfNXVbYzq1"
      }
    }
  ]
}